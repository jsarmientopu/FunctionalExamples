{
 "cells": [
  {
   "cell_type": "markdown",
   "metadata": {},
   "source": [
    "Implementación Scala\n",
    "---\n",
    "\n",
    "Función impura"
   ]
  },
  {
   "cell_type": "code",
   "execution_count": null,
   "metadata": {},
   "outputs": [],
   "source": [
    "def impureFunction(x: Int): Int = {\n",
    "    import scala.util.Random\n",
    "    return Random.nextInt(100) + x\n",
    "}\n",
    "println(impureFunction(5))\n",
    "println(impureFunction(5))\n",
    "println(impureFunction(8))"
   ]
  },
  {
   "cell_type": "markdown",
   "metadata": {},
   "source": [
    "Función pura"
   ]
  },
  {
   "cell_type": "code",
   "execution_count": null,
   "metadata": {},
   "outputs": [],
   "source": [
    "def square(a:Int) = {\n",
    "    var b:Int = a * a;\n",
    "    println(\"Square of the number is \" + b);\n",
    "    println(\"Number is \" + a);\n",
    "}\n",
    "square(4);\n",
    "square(4);"
   ]
  }
 ],
 "metadata": {
  "kernelspec": {
   "display_name": "Python 3",
   "language": "python",
   "name": "python3"
  },
  "language_info": {
   "codemirror_mode": {
    "name": "ipython",
    "version": 3
   },
   "file_extension": ".py",
   "mimetype": "text/x-python",
   "name": "python",
   "nbconvert_exporter": "python",
   "pygments_lexer": "ipython3",
   "version": "3.11.2"
  }
 },
 "nbformat": 4,
 "nbformat_minor": 2
}
